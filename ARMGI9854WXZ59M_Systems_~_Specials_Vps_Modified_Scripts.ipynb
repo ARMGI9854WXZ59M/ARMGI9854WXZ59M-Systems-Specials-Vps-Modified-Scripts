{
  "nbformat": 4,
  "nbformat_minor": 0,
  "metadata": {
    "colab": {
      "provenance": [],
      "gpuType": "T4",
      "authorship_tag": "ABX9TyMjrwmIeA7zFuBDAzSQMynq",
      "include_colab_link": true
    },
    "kernelspec": {
      "name": "python3",
      "display_name": "Python 3"
    },
    "language_info": {
      "name": "python"
    },
    "accelerator": "GPU"
  },
  "cells": [
    {
      "cell_type": "markdown",
      "metadata": {
        "id": "view-in-github",
        "colab_type": "text"
      },
      "source": [
        "<a href=\"https://colab.research.google.com/github/ARMGI9854WXZ59M/ARMGI9854WXZ59M-Systems-Specials-Vps-Modified-Scripts/blob/Master/ARMGI9854WXZ59M_Systems_~_Specials_Vps_Modified_Scripts.ipynb\" target=\"_parent\"><img src=\"https://colab.research.google.com/assets/colab-badge.svg\" alt=\"Open In Colab\"/></a>"
      ]
    },
    {
      "cell_type": "markdown",
      "source": [
        "**`# ARMGI9854WXZ59M Systems Specials Vps Modified Scripts. #`**"
      ],
      "metadata": {
        "id": "FOnTEvftpoDy"
      }
    },
    {
      "cell_type": "markdown",
      "source": [
        "**`ARMGI9854WXZ59M_VpsScript`**"
      ],
      "metadata": {
        "id": "id07n5Uws9n6"
      }
    },
    {
      "cell_type": "code",
      "execution_count": 2,
      "metadata": {
        "id": "AIvMviXlpmUQ",
        "colab": {
          "base_uri": "https://localhost:8080/",
          "height": 143
        },
        "outputId": "d28c0f5e-199c-4145-9366-ec0f2d0930da"
      },
      "outputs": [
        {
          "output_type": "error",
          "ename": "IndentationError",
          "evalue": "unindent does not match any outer indentation level (<tokenize>, line 10)",
          "traceback": [
            "\u001b[0;36m  File \u001b[0;32m\"<tokenize>\"\u001b[0;36m, line \u001b[0;32m10\u001b[0m\n\u001b[0;31m    dnf)\u001b[0m\n\u001b[0m    ^\u001b[0m\n\u001b[0;31mIndentationError\u001b[0m\u001b[0;31m:\u001b[0m unindent does not match any outer indentation level\n"
          ]
        }
      ],
      "source": [
        "%%shell\n",
        "\n",
        "#!/usr/bin/env sh\n",
        "\n",
        "# Function to install packages based on the package manager\n",
        "install_packages() {\n",
        "    case $PKG_MANAGER in\n",
        "        apt)\n",
        "            sudo apt-get update\n",
        "            sudo apt-get install -y \"$@\"\n",
        "            ;;\n",
        "        dnf)\n",
        "            sudo dnf install -y \"$@\"\n",
        "            ;;\n",
        "        pacman)\n",
        "            sudo pacman -Syu --noconfirm \"$@\"\n",
        "            ;;\n",
        "        *)\n",
        "            echo \"Unsupported package manager.\"\n",
        "            exit 1\n",
        "            ;;\n",
        "    esac\n",
        "}\n",
        "\n",
        "# Detect the operating system\n",
        "OS=$(uname -s | tr A-Z a-z)\n",
        "\n",
        "# Determine the package manager\n",
        "if command -v apt-get >/dev/null 2>&1; then\n",
        "    PKG_MANAGER=\"apt\"\n",
        "elif command -v dnf >/dev/null 2>&1; then\n",
        "    PKG_MANAGER=\"dnf\"\n",
        "elif command -v pacman >/dev/null 2>&1; then\n",
        "    PKG_MANAGER=\"pacman\"\n",
        "else\n",
        "    echo \"Unsupported package manager.\"\n",
        "    exit 1\n",
        "fi\n",
        "\n",
        "# Install necessary packages\n",
        "install_packages openssh-server vim htop python3\n",
        "\n",
        "# Set up SSH\n",
        "sudo mkdir /var/run/sshd\n",
        "echo 'root:ARMGI9854WXZ59M_VpsM9' | sudo chpasswd\n",
        "sudo sed -i 's/#PermitRootLogin prohibit-password/PermitRootLogin yes/' /etc/ssh/sshd_config\n",
        "sudo service ssh restart\n",
        "\n",
        "# Install additional tools (optional)\n",
        "install_packages screen tmux dvtm\n",
        "\n",
        "# Install and configure VNC\n",
        "install_packages tightvncserver sddm kde-full\n",
        "\n",
        "# Install zsh and set it as the default shell\n",
        "install_packages zsh\n",
        "sudo chsh -s /bin/zsh\n",
        "\n",
        "# Install Oh My Zsh and Powerlevel10k for default user\n",
        "sh -c \"$(curl -fsSL https://raw.githubusercontent.com/ohmyzsh/ohmyzsh/master/tools/install.sh)\"\n",
        "git clone --depth=1 https://github.com/romkatv/powerlevel10k.git ~/.oh-my-zsh/themes/powerlevel10k\n",
        "echo 'source ~/.oh-my-zsh/themes/powerlevel10k/powerlevel10k.zsh-theme' >> ~/.zshrc\n",
        "\n",
        "# Install Oh My Zsh and Powerlevel10k for root\n",
        "sudo sh -c \"$(curl -fsSL https://raw.githubusercontent.com/ohmyzsh/ohmyzsh/master/tools/install.sh)\"\n",
        "sudo git clone --depth=1 https://github.com/romkatv/powerlevel10k.git /root/.oh-my-zsh/themes/powerlevel10k\n",
        "echo 'source /root/.oh-my-zsh/themes/powerlevel10k/powerlevel10k.zsh-theme' | sudo tee -a /root/.zshrc\n",
        "\n",
        "# Create a Python script to run on the VPS\n",
        "cat <<'EOF' > vps_script.py\n",
        "import time\n",
        "\n",
        "def main():\n",
        "    print(\"Welcome to your VPS!\")\n",
        "    while True:\n",
        "        print(\"VPS is running...\")\n",
        "        time.sleep(60)\n",
        "\n",
        "if __name__ == \"__main__\":\n",
        "    main()\n",
        "EOF\n",
        "\n",
        "# Run the Python script in the background\n",
        "nohup python3 vps_script.py &\n",
        "\n",
        "echo \"VPS setup complete!\"\n",
        "echo \"Connect to your VPS using SSH or VNC.\"\n",
        "\n",
        "\n",
        "\n"
      ]
    },
    {
      "cell_type": "code",
      "source": [],
      "metadata": {
        "id": "L1jNbAugsvYp"
      },
      "execution_count": null,
      "outputs": []
    }
  ]
}